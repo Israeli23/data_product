{
 "cells": [
  {
   "cell_type": "code",
   "execution_count": 74,
   "metadata": {},
   "outputs": [],
   "source": [
    "import pandas as pd"
   ]
  },
  {
   "cell_type": "code",
   "execution_count": 75,
   "metadata": {},
   "outputs": [],
   "source": [
    "data = pd.read_csv('C:/Users/Admin/Desktop/data_product/Python_app/Data/03_Library Systembook.csv')\n",
    "customer = pd.read_csv('C:/Users/Admin/Desktop/data_product/Python_app/Data/03_Library SystemCustomers.csv')"
   ]
  },
  {
   "cell_type": "code",
   "execution_count": 81,
   "metadata": {},
   "outputs": [
    {
     "name": "stdout",
     "output_type": "stream",
     "text": [
      "Removed 92 duplicated rows from Books\n",
      "Removed 94 nulls from Books\n",
      "Removed 0 duplicated rows from Customers\n",
      "Removed 1 nulls from Customers\n"
     ]
    }
   ],
   "source": [
    "def remove_duplicates(df, df_name=\"DataFrame\"):\n",
    "    try:\n",
    "        before = len(df)\n",
    "        df= df.drop_duplicates()\n",
    "        after = len(df)\n",
    "        print(f\"Removed {before - after} duplicated rows from {df_name}\")\n",
    "        return df\n",
    "    except Exception as error:\n",
    "        print(f\"Error removing duplicates: {error} from {df_name}\")\n",
    "        return df\n",
    "\n",
    "\n",
    "def remove_nulls(df, df_name=\"DataFrame\"):\n",
    "    try:\n",
    "        before = len(df)\n",
    "        df = df.dropna()\n",
    "        after = len(df)\n",
    "        print(f\"Removed {before - after} nulls from {df_name}\")\n",
    "        return df\n",
    "    except Exception as error:\n",
    "        print(f\"Error removing nullls: {error} from {df_name}\")\n",
    "        return df\n",
    "\n",
    "\n",
    "df = remove_duplicates(data, \"Books\")\n",
    "df = remove_nulls(data, \"Books\")\n",
    "df = remove_duplicates(customer, \"Customers\")\n",
    "df = remove_nulls(customer, \"Customers\")"
   ]
  },
  {
   "cell_type": "code",
   "execution_count": 56,
   "metadata": {},
   "outputs": [
    {
     "name": "stderr",
     "output_type": "stream",
     "text": [
      "C:\\Users\\Admin\\AppData\\Local\\Temp\\ipykernel_12896\\1974641834.py:8: SettingWithCopyWarning: \n",
      "A value is trying to be set on a copy of a slice from a DataFrame.\n",
      "Try using .loc[row_indexer,col_indexer] = value instead\n",
      "\n",
      "See the caveats in the documentation: https://pandas.pydata.org/pandas-docs/stable/user_guide/indexing.html#returning-a-view-versus-a-copy\n",
      "  cleaned_data2['Book checkout'] = pd.to_datetime(cleaned_data2['Book checkout'].str.strip('\"'), format='%d/%m/%Y', errors = 'coerce')\n"
     ]
    }
   ],
   "source": [
    "removedupes = data.drop_duplicates()\n",
    "\n",
    "cleaned_data = removedupes.dropna()\n",
    "\n",
    "cleaned_data2 = cleaned_data[cleaned_data['Customer ID'] != 10.0]\n",
    "\n",
    "\n",
    "cleaned_data2['Book checkout'] = pd.to_datetime(cleaned_data2['Book checkout'].str.strip('\"'), format='%d/%m/%Y', errors = 'coerce')\n",
    "\n",
    "cleaned_books_dates = cleaned_data2.dropna(subset=['Book checkout'])\n"
   ]
  },
  {
   "cell_type": "code",
   "execution_count": 23,
   "metadata": {},
   "outputs": [
    {
     "name": "stdout",
     "output_type": "stream",
     "text": [
      "   Customer ID     Customer Name\n",
      "0          1.0          Jane Doe\n",
      "1          2.0        John Smith\n",
      "2          3.0        Dan Reeves\n",
      "3          NaN               NaN\n",
      "4          5.0    William Holden\n",
      "5          6.0     Jaztyn Forest\n",
      "6          7.0     Jackie Irving\n",
      "7          8.0  Matthew Stirling\n",
      "8          9.0         Emory Ted\n"
     ]
    }
   ],
   "source": [
    "customer = pd.read_csv('C:/Users/Admin/Desktop/data_product/Python_app/Data/03_Library SystemCustomers.csv')"
   ]
  },
  {
   "cell_type": "code",
   "execution_count": 31,
   "metadata": {},
   "outputs": [
    {
     "name": "stdout",
     "output_type": "stream",
     "text": [
      "   Customer ID     Customer Name\n",
      "0          1.0          Jane Doe\n",
      "1          2.0        John Smith\n",
      "2          3.0        Dan Reeves\n",
      "4          5.0    William Holden\n",
      "5          6.0     Jaztyn Forest\n",
      "6          7.0     Jackie Irving\n",
      "7          8.0  Matthew Stirling\n",
      "8          9.0         Emory Ted\n"
     ]
    }
   ],
   "source": [
    "cleaned_customer = customer.dropna()\n",
    "\n",
    "print(cleaned_customer)"
   ]
  },
  {
   "cell_type": "code",
   "execution_count": 34,
   "metadata": {},
   "outputs": [],
   "source": [
    "cleaned_customer.to_csv('cleaned_customerData.csv', index=False)"
   ]
  },
  {
   "cell_type": "code",
   "execution_count": 35,
   "metadata": {},
   "outputs": [],
   "source": [
    "cleaned_data2.to_csv('cleaned_data.csv', index=False)"
   ]
  },
  {
   "cell_type": "markdown",
   "metadata": {},
   "source": [
    "Stretch Challenge"
   ]
  },
  {
   "cell_type": "code",
   "execution_count": 42,
   "metadata": {},
   "outputs": [
    {
     "data": {
      "text/plain": [
       "8"
      ]
     },
     "execution_count": 42,
     "metadata": {},
     "output_type": "execute_result"
    }
   ],
   "source": [
    "from sqlalchemy import create_engine\n",
    "import pandas as pd\n",
    "\n",
    "server = 'localhost'\n",
    "database = 'LibrarySystem'\n",
    "driver = 'ODBC Driver 17 for SQL Server'\n",
    "\n",
    "connection_string = f\"mssql+pyodbc://@{server}/{database}?trusted_connection=yes&driver={driver}\"\n",
    "engine = create_engine(connection_string)\n",
    "\n",
    "books = pd.read_csv('C:/Users/Admin/Desktop/data_product/Python_app/cleaned_data.csv')\n",
    "\n",
    "customers = pd.read_csv('C:/Users/Admin/Desktop/data_product/Python_app/cleaned_customerData.csv')\n",
    "\n",
    "books.to_sql(\n",
    "    name='Books',\n",
    "    if_exists=\"replace\",\n",
    "    con=engine \n",
    ")\n",
    "\n",
    "\n",
    "customers.to_sql(\n",
    "    name='Customers',\n",
    "    if_exists=\"replace\",\n",
    "    con=engine\n",
    ")"
   ]
  }
 ],
 "metadata": {
  "kernelspec": {
   "display_name": "base",
   "language": "python",
   "name": "python3"
  },
  "language_info": {
   "codemirror_mode": {
    "name": "ipython",
    "version": 3
   },
   "file_extension": ".py",
   "mimetype": "text/x-python",
   "name": "python",
   "nbconvert_exporter": "python",
   "pygments_lexer": "ipython3",
   "version": "3.11.7"
  }
 },
 "nbformat": 4,
 "nbformat_minor": 2
}
